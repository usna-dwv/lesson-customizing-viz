{
 "cells": [
  {
   "cell_type": "markdown",
   "metadata": {
    "editable": true,
    "slideshow": {
     "slide_type": ""
    },
    "tags": []
   },
   "source": [
    "**SA433 &#x25aa; Data Wrangling and Visualization &#x25aa; Fall 2024**"
   ]
  },
  {
   "cell_type": "markdown",
   "metadata": {},
   "source": [
    "# Lesson 6. Customizing Visualizations &mdash; Scales, Axes, Legends, Titles"
   ]
  },
  {
   "cell_type": "markdown",
   "metadata": {
    "colab_type": "text",
    "id": "s-_LXMfxPYNn"
   },
   "source": [
    "## In this lesson..."
   ]
  },
  {
   "cell_type": "markdown",
   "metadata": {
    "colab_type": "text",
    "editable": true,
    "id": "s-_LXMfxPYNn",
    "slideshow": {
     "slide_type": ""
    },
    "tags": []
   },
   "source": [
    "- Once you have the basics of a useful visualization, you'll often want to customize it\n",
    "\n",
    "\n",
    "- For example, you may want to adjust the **scale** used by an encoding channel to map the data values to visual values (e.g. position, color)\n",
    "\n",
    "\n",
    "- You may also want to tweak the guides that allow your readers to decode your visualization, such as the **axes**, **legends**, and **title**\n",
    "\n",
    "\n",
    "- In addition, you may want to adjust the **size** of your visualization\n",
    "\n",
    "\n",
    "- In this lesson, we will explore how to perform these customizations in Altair"
   ]
  },
  {
   "cell_type": "markdown",
   "metadata": {},
   "source": [
    "<hr style=\"border-top: 2px solid gray; margin-top: 1px; margin-bottom: 1px\"></hr>"
   ]
  },
  {
   "cell_type": "markdown",
   "metadata": {},
   "source": [
    "## The antibiotics dataset"
   ]
  },
  {
   "cell_type": "markdown",
   "metadata": {},
   "source": [
    "* First, let's import Pandas and Altair:"
   ]
  },
  {
   "cell_type": "code",
   "execution_count": null,
   "metadata": {
    "colab": {},
    "colab_type": "code",
    "editable": true,
    "id": "9-iDk57UO3ij",
    "slideshow": {
     "slide_type": ""
    },
    "tags": []
   },
   "outputs": [],
   "source": [
    "import pandas as pd\n",
    "import altair as alt"
   ]
  },
  {
   "cell_type": "markdown",
   "metadata": {
    "colab_type": "text",
    "editable": true,
    "id": "cXYJkW_p6zGN",
    "slideshow": {
     "slide_type": ""
    },
    "tags": []
   },
   "source": [
    "- After World War II, antibiotics were considered \"wonder drugs\", as they were an easy remedy for what had been intractable ailments\n",
    "\n",
    "\n",
    "- In the same folder as this notebook, there is a CSV file `data/antibiotics.csv` that contains the performance of the 3 most popular antibiotics on 16 bacteria\n",
    "\n",
    "\n",
    "- Let's read in the data:"
   ]
  },
  {
   "cell_type": "code",
   "execution_count": null,
   "metadata": {
    "colab": {
     "base_uri": "https://localhost:8080/",
     "height": 545
    },
    "colab_type": "code",
    "editable": true,
    "id": "WoMzr0HE6ipZ",
    "outputId": "fa9edadf-8744-4514-d8ba-5401b7f66bed",
    "slideshow": {
     "slide_type": ""
    },
    "tags": []
   },
   "outputs": [],
   "source": [
    "df = pd.read_csv('data/antibiotics.csv')"
   ]
  },
  {
   "cell_type": "markdown",
   "metadata": {
    "editable": true,
    "slideshow": {
     "slide_type": ""
    },
    "tags": []
   },
   "source": [
    "* This dataset is small, so let's just look at it in its entirety:"
   ]
  },
  {
   "cell_type": "code",
   "execution_count": null,
   "metadata": {
    "editable": true,
    "slideshow": {
     "slide_type": ""
    },
    "tags": []
   },
   "outputs": [],
   "source": [
    "df"
   ]
  },
  {
   "cell_type": "markdown",
   "metadata": {
    "colab_type": "text",
    "editable": true,
    "id": "els3ZQOv7K_9",
    "slideshow": {
     "slide_type": ""
    },
    "tags": []
   },
   "source": [
    "- Each row corresponds to one `Bacteria` strain:\n",
    "    - We have the [minimum inhibitory concentration (MIC)](https://en.wikipedia.org/wiki/Minimum_inhibitory_concentration) for `Penicillin`, `Streptomycin`, and `Neomycin`\n",
    "        - MIC measures the concentration of antibiotic (in micrograms per milliliter) required to prevent growth in vitro\n",
    "        - So, smaller is better\n",
    "    - We also have the reaction of the bacteria to `Gram_Staining`, [described here](https://en.wikipedia.org/wiki/Gram_stain)\n",
    "    - Finally, we have the `Genus` of the bacteria"
   ]
  },
  {
   "cell_type": "markdown",
   "metadata": {
    "editable": true,
    "slideshow": {
     "slide_type": ""
    },
    "tags": []
   },
   "source": [
    "<hr style=\"border-top: 2px solid gray; margin-top: 1px; margin-bottom: 1px\"></hr>"
   ]
  },
  {
   "cell_type": "markdown",
   "metadata": {
    "colab_type": "text",
    "editable": true,
    "id": "dawVYXt1WNJz",
    "slideshow": {
     "slide_type": ""
    },
    "tags": []
   },
   "source": [
    "## Adjusting the scale type of an encoding channel"
   ]
  },
  {
   "cell_type": "markdown",
   "metadata": {
    "colab_type": "text",
    "editable": true,
    "id": "dawVYXt1WNJz",
    "slideshow": {
     "slide_type": ""
    },
    "tags": []
   },
   "source": [
    "- Let's start by looking at a simple dot plot of the MIC for Neomycin:"
   ]
  },
  {
   "cell_type": "code",
   "execution_count": null,
   "metadata": {
    "colab": {
     "base_uri": "https://localhost:8080/",
     "height": 87
    },
    "colab_type": "code",
    "editable": true,
    "id": "dBOlbuYpKx6L",
    "outputId": "90dfa88f-a287-4d0f-84ee-02f88f2f4701",
    "slideshow": {
     "slide_type": ""
    },
    "tags": []
   },
   "outputs": [],
   "source": [
    "alt.Chart(df).mark_circle().encode(\n",
    "    alt.X('Neomycin:Q')\n",
    ")"
   ]
  },
  {
   "cell_type": "markdown",
   "metadata": {
    "colab_type": "text",
    "editable": true,
    "id": "eTBRtG7CWVVX",
    "slideshow": {
     "slide_type": ""
    },
    "tags": []
   },
   "source": [
    "- We can see that the MIC values cluster on the left, with a few large outliers to the right\n",
    "\n",
    "\n",
    "- By default Altair uses a linear mapping between the data values (in this case, MIC) and the visual values (pixels)\n",
    "\n",
    "\n",
    "- To get a better view of the data, we can tell Altair to use a different scale\n",
    "\n",
    "\n",
    "- For example, we could use a **square root scale**, which compresses larger numbers into a smaller amount of space:\n",
    "\n",
    "<img src=\"img/sqrt.svg\" width=650/>\n",
    "\n",
    "\n",
    "- We can tell an encoding channel to use a different scale with the `.scale()` method\n",
    "    - `.scale()` takes the same arguments as `alt.Scale()`\n",
    "    - `alt.Scale()` is an object that defines various scale properties\n",
    "    - [Here is the documentation for `alt.Scale()`](https://altair-viz.github.io/user_guide/generated/core/altair.Scale.html)"
   ]
  },
  {
   "cell_type": "markdown",
   "metadata": {
    "colab_type": "text",
    "editable": true,
    "id": "eTBRtG7CWVVX",
    "slideshow": {
     "slide_type": ""
    },
    "tags": []
   },
   "source": [
    "- So, to tell the `X` encoding channel to use a square root (`sqrt`) scale `type`, we can do this:"
   ]
  },
  {
   "cell_type": "code",
   "execution_count": null,
   "metadata": {
    "editable": true,
    "slideshow": {
     "slide_type": ""
    },
    "tags": []
   },
   "outputs": [],
   "source": []
  },
  {
   "cell_type": "markdown",
   "metadata": {
    "colab_type": "text",
    "editable": true,
    "id": "qqosAiy5XDKJ",
    "slideshow": {
     "slide_type": ""
    },
    "tags": []
   },
   "source": [
    "- We see now that the points on the left are now better differentiated, but we still see some heavy skew to the left\n",
    " \n",
    "\n",
    "- We could try using a **logarithmic scale** instead, which has a similar, but more pronounced effect than a square root scale:\n",
    "\n",
    "<img src=\"img/log.svg\" width=700 />\n",
    "\n",
    "- To have the `X` encoding channel use the logarithmic (`log`) scale `type`, we can do this:"
   ]
  },
  {
   "cell_type": "code",
   "execution_count": null,
   "metadata": {
    "editable": true,
    "slideshow": {
     "slide_type": ""
    },
    "tags": []
   },
   "outputs": [],
   "source": []
  },
  {
   "cell_type": "markdown",
   "metadata": {
    "colab_type": "text",
    "editable": true,
    "id": "MapiFW7hXMOG",
    "slideshow": {
     "slide_type": ""
    },
    "tags": []
   },
   "source": [
    "- Now the data is much more evenly distributed visually\n",
    "\n",
    "\n",
    "- As a result, we can better see the differences in Neomycin concentrations required for different bacteria"
   ]
  },
  {
   "cell_type": "markdown",
   "metadata": {
    "editable": true,
    "slideshow": {
     "slide_type": ""
    },
    "tags": []
   },
   "source": [
    "<hr style=\"border-top: 2px solid gray; margin-top: 1px; margin-bottom: 1px\"></hr>"
   ]
  },
  {
   "cell_type": "markdown",
   "metadata": {
    "colab_type": "text",
    "editable": true,
    "id": "P3u_mJgLeJGt",
    "slideshow": {
     "slide_type": ""
    },
    "tags": []
   },
   "source": [
    "## Changing the sort order of an encoding channel"
   ]
  },
  {
   "cell_type": "markdown",
   "metadata": {
    "colab_type": "text",
    "editable": true,
    "id": "P3u_mJgLeJGt",
    "slideshow": {
     "slide_type": ""
    },
    "tags": []
   },
   "source": [
    "- Remember that *lower* MIC indicates higher effectiveness\n",
    "\n",
    "\n",
    "- However, some people may expect \"better\" values to be \"up and to the right\""
   ]
  },
  {
   "cell_type": "markdown",
   "metadata": {
    "colab_type": "text",
    "editable": true,
    "id": "P3u_mJgLeJGt",
    "slideshow": {
     "slide_type": ""
    },
    "tags": []
   },
   "source": [
    "- We can specify a **sort order** for an encoding channel with `.sort('ascending')` or `.sort('descending')`\n",
    "    - The `.sort()` method can take other arguments &mdash; we'll see these later"
   ]
  },
  {
   "cell_type": "markdown",
   "metadata": {
    "colab_type": "text",
    "editable": true,
    "id": "P3u_mJgLeJGt",
    "slideshow": {
     "slide_type": ""
    },
    "tags": []
   },
   "source": [
    "- So, in our dot plot, we can ask the `X` encoding to sort values in descending order, like this:"
   ]
  },
  {
   "cell_type": "code",
   "execution_count": null,
   "metadata": {
    "editable": true,
    "slideshow": {
     "slide_type": ""
    },
    "tags": []
   },
   "outputs": [],
   "source": []
  },
  {
   "cell_type": "markdown",
   "metadata": {
    "editable": true,
    "slideshow": {
     "slide_type": ""
    },
    "tags": []
   },
   "source": [
    "<hr style=\"border-top: 2px solid gray; margin-top: 1px; margin-bottom: 1px\"></hr>"
   ]
  },
  {
   "cell_type": "markdown",
   "metadata": {
    "editable": true,
    "slideshow": {
     "slide_type": ""
    },
    "tags": []
   },
   "source": [
    "## Specifying the title of an encoding channel"
   ]
  },
  {
   "cell_type": "markdown",
   "metadata": {
    "colab_type": "text",
    "editable": true,
    "id": "Wp2lmW6SXxcQ",
    "slideshow": {
     "slide_type": ""
    },
    "tags": []
   },
   "source": [
    "- One could argue that our chart is starting to get confusing:\n",
    "    - the axis uses a logarithmic scale\n",
    "    - the axis is in the reverse direction\n",
    "    - the axis does not clearly indicate what the units are"
   ]
  },
  {
   "cell_type": "markdown",
   "metadata": {
    "colab_type": "text",
    "editable": true,
    "id": "Wp2lmW6SXxcQ",
    "slideshow": {
     "slide_type": ""
    },
    "tags": []
   },
   "source": [
    "- We can specify a title for an encoding channel with the `.title()` method\n",
    "\n",
    "\n",
    "- The title of an encoding channel is used as the title for any corresponding axes or legends\n",
    "\n",
    "\n",
    "- For example, let's make the axis title of our dot plot more informative:"
   ]
  },
  {
   "cell_type": "code",
   "execution_count": null,
   "metadata": {
    "editable": true,
    "slideshow": {
     "slide_type": ""
    },
    "tags": []
   },
   "outputs": [],
   "source": []
  },
  {
   "cell_type": "markdown",
   "metadata": {
    "editable": true,
    "slideshow": {
     "slide_type": ""
    },
    "tags": []
   },
   "source": [
    "<hr style=\"border-top: 2px solid gray; margin-top: 1px; margin-bottom: 1px\"></hr>"
   ]
  },
  {
   "cell_type": "markdown",
   "metadata": {
    "editable": true,
    "slideshow": {
     "slide_type": ""
    },
    "tags": []
   },
   "source": [
    "## Adjusting axis gridlines, ticks and labels"
   ]
  },
  {
   "cell_type": "markdown",
   "metadata": {
    "colab_type": "text",
    "editable": true,
    "id": "9tpvPMM3YT2H",
    "slideshow": {
     "slide_type": ""
    },
    "tags": []
   },
   "source": [
    "- By default, Altair places the x-axis along the bottom of the chart"
   ]
  },
  {
   "cell_type": "markdown",
   "metadata": {
    "colab_type": "text",
    "editable": true,
    "id": "9tpvPMM3YT2H",
    "slideshow": {
     "slide_type": ""
    },
    "tags": []
   },
   "source": [
    "- We can tell an encoding channel to change an axis's gridlines, ticks, or labels with the `.axis()` method \n",
    "    - `.axis()` takes the same arguments as `alt.Axis()`\n",
    "    - `alt.Axis()` is an object that defines various axis properties, such as gridlines, ticks, labels\n",
    "    - [Here's the documentation for `alt.Axis()`](https://altair-viz.github.io/user_guide/generated/core/altair.Axis.html)"
   ]
  },
  {
   "cell_type": "markdown",
   "metadata": {
    "colab_type": "text",
    "editable": true,
    "id": "9tpvPMM3YT2H",
    "slideshow": {
     "slide_type": ""
    },
    "tags": []
   },
   "source": [
    "- To change the placement of the x-axis, we can use the `orient='top'` keyword argument of `.axis()` like this:"
   ]
  },
  {
   "cell_type": "code",
   "execution_count": null,
   "metadata": {
    "editable": true,
    "slideshow": {
     "slide_type": ""
    },
    "tags": []
   },
   "outputs": [],
   "source": []
  },
  {
   "attachments": {},
   "cell_type": "markdown",
   "metadata": {
    "colab_type": "text",
    "editable": true,
    "id": "l1WXNzJC9hxi",
    "slideshow": {
     "slide_type": ""
    },
    "tags": []
   },
   "source": [
    "- Similarly, the y-axis defaults to a `'left'` orientation, but can be set to `'right'`\n",
    "\n",
    "\n",
    "- Now suppose we want to compare neomycin with another antibiotic, like penicillin\n",
    "\n",
    "\n",
    "- We can create a scatter plot by adding a `Y` encoding for penicillin that mirrors the design of our x-axis for neomycin, like this:"
   ]
  },
  {
   "cell_type": "code",
   "execution_count": null,
   "metadata": {
    "colab": {
     "base_uri": "https://localhost:8080/",
     "height": 372
    },
    "colab_type": "code",
    "editable": true,
    "id": "hqc6DFgvNHAT",
    "outputId": "6713ba6b-8879-43be-e7ed-4340974b2c20",
    "slideshow": {
     "slide_type": ""
    },
    "tags": []
   },
   "outputs": [],
   "source": [
    "alt.Chart(df).mark_circle().encode(\n",
    "    alt.X('Neomycin:Q')\n",
    "        .sort('descending')\n",
    "        .scale(type='log')\n",
    "        .title('Neomycin MIC (micrograms/ml, reverse log scale)'),\n",
    "    alt.Y('Penicillin:Q')\n",
    "        .sort('descending')\n",
    "        .scale(type='log')\n",
    "        .title('Penicillin MIC (micrograms/ml, reverse log scale)')\n",
    ")"
   ]
  },
  {
   "cell_type": "markdown",
   "metadata": {
    "colab_type": "text",
    "editable": true,
    "id": "oknzZZ-lZYaH",
    "slideshow": {
     "slide_type": ""
    },
    "tags": []
   },
   "source": [
    "- We can see a differentiated response: some bacteria respond well to neomycin but not penicillin, and vice versa\n",
    "\n",
    "\n",
    "- While this plot is useful, we can make it better\n",
    "\n",
    "\n",
    "- For example, the grid lines are rather dense...\n",
    "\n",
    "\n",
    "- If we want to remove grid lines altogether, we can specify `grid=False` in `.axis()`"
   ]
  },
  {
   "cell_type": "markdown",
   "metadata": {
    "colab_type": "text",
    "editable": true,
    "id": "oknzZZ-lZYaH",
    "slideshow": {
     "slide_type": ""
    },
    "tags": []
   },
   "source": [
    "- We can *reduce* the number of grid lines and tick marks, by specifying a target `tickCount` in `.axis()`\n",
    "    - `tickCount` is a *suggestion* to Altair, considered alongside other aspects that make a nice visualization\n",
    "    - We may not get *exactly* the number of tick marks we request, but we should get something close"
   ]
  },
  {
   "cell_type": "markdown",
   "metadata": {
    "colab_type": "text",
    "editable": true,
    "id": "oknzZZ-lZYaH",
    "slideshow": {
     "slide_type": ""
    },
    "tags": []
   },
   "source": [
    "- For example, if we want roughly 5 grid lines and tickmarks, we can do so like this:"
   ]
  },
  {
   "cell_type": "code",
   "execution_count": null,
   "metadata": {
    "editable": true,
    "slideshow": {
     "slide_type": ""
    },
    "tags": []
   },
   "outputs": [],
   "source": []
  },
  {
   "cell_type": "markdown",
   "metadata": {
    "editable": true,
    "slideshow": {
     "slide_type": ""
    },
    "tags": []
   },
   "source": [
    "<hr style=\"border-top: 2px solid gray; margin-top: 1px; margin-bottom: 1px\"></hr>"
   ]
  },
  {
   "cell_type": "markdown",
   "metadata": {
    "colab_type": "text",
    "editable": true,
    "id": "l1WXNzJC9hxi",
    "slideshow": {
     "slide_type": ""
    },
    "tags": []
   },
   "source": [
    "## Adjusting the domain"
   ]
  },
  {
   "cell_type": "markdown",
   "metadata": {
    "colab_type": "text",
    "editable": true,
    "id": "fSdm-7VjYjij",
    "slideshow": {
     "slide_type": ""
    },
    "tags": []
   },
   "source": [
    "- Note that in our chart of neomycin MIC vs. penicillin MIC above, the x and y axes use the same units, but have different domains\n",
    "    - This could be misleading..."
   ]
  },
  {
   "cell_type": "markdown",
   "metadata": {
    "colab_type": "text",
    "editable": true,
    "id": "fSdm-7VjYjij",
    "slideshow": {
     "slide_type": ""
    },
    "tags": []
   },
   "source": [
    "- We can adjust the scale of the `X` and `Y` encoding channels so that they have matching domains using the `domain=...` keyword argument of `.scale()`, like this:"
   ]
  },
  {
   "cell_type": "code",
   "execution_count": null,
   "metadata": {
    "editable": true,
    "slideshow": {
     "slide_type": ""
    },
    "tags": []
   },
   "outputs": [],
   "source": []
  },
  {
   "cell_type": "markdown",
   "metadata": {
    "editable": true,
    "slideshow": {
     "slide_type": ""
    },
    "tags": []
   },
   "source": [
    "<hr style=\"border-top: 2px solid gray; margin-top: 1px; margin-bottom: 1px\"></hr>"
   ]
  },
  {
   "cell_type": "markdown",
   "metadata": {
    "colab_type": "text",
    "editable": true,
    "id": "AJ8dwejXO9cc",
    "slideshow": {
     "slide_type": ""
    },
    "tags": []
   },
   "source": [
    "## Configuring color scales"
   ]
  },
  {
   "cell_type": "markdown",
   "metadata": {
    "colab_type": "text",
    "editable": true,
    "id": "obwIbbZa_KNd",
    "slideshow": {
     "slide_type": ""
    },
    "tags": []
   },
   "source": [
    "- In the scatter plots we created above, we saw that neomycin is more effective for some bacteria, while penicillin is more effective for others\n",
    "\n",
    "\n",
    "- However, we can't tell *which* bacteria respond better to neomycin vs. penicillin!\n",
    "\n",
    "\n",
    "- Gram staining serves as a diagnostic for discriminating classes of bacteria, so let's take our existing scatter plot and map `Gram_Staining` to the `Color` encoding channel:"
   ]
  },
  {
   "cell_type": "code",
   "execution_count": null,
   "metadata": {
    "editable": true,
    "slideshow": {
     "slide_type": ""
    },
    "tags": []
   },
   "outputs": [],
   "source": []
  },
  {
   "cell_type": "markdown",
   "metadata": {
    "colab_type": "text",
    "editable": true,
    "id": "a1Ec7fCUBQJn",
    "slideshow": {
     "slide_type": ""
    },
    "tags": []
   },
   "source": [
    "- Now we can see clearly that Gram-positive bacteria seem most susceptible to penicillin, whereas Gram-negative bacteria are more susceptible to neomycin!\n",
    "\n",
    "\n",
    "- Note that we specified `Gram_Staining` as a nominal data type\n",
    "\n",
    "\n",
    "- The color scheme above was automatically chosen by Altair to provide perceptually-distinguishable colors for nominal comparisons (i.e., equal or not equal)\n",
    "\n",
    "\n",
    "- However, we might wish to customize the colors used\n",
    "\n",
    "\n",
    "- This is another *scale* adjustment: how we map data values to visual values\n",
    "\n",
    "\n",
    "- It turns out that Gram staining results in [distinctive physical colorings: pink for Gram-negative, purple for Gram-positive](https://en.wikipedia.org/wiki/Gram_stain#/media/File:Gram_stain_01.jpg)"
   ]
  },
  {
   "cell_type": "markdown",
   "metadata": {
    "colab_type": "text",
    "editable": true,
    "id": "a1Ec7fCUBQJn",
    "slideshow": {
     "slide_type": ""
    },
    "tags": []
   },
   "source": [
    "- Let's use those colors by specifying an explicit discrete scale mapping with the `domain=...` and `range=...` keyword arguments of `.scale()`\n",
    "    - `domain` will be a list of data values\n",
    "    - `range` will be a list of corresponding colors"
   ]
  },
  {
   "cell_type": "code",
   "execution_count": null,
   "metadata": {
    "editable": true,
    "slideshow": {
     "slide_type": ""
    },
    "tags": []
   },
   "outputs": [],
   "source": []
  },
  {
   "cell_type": "markdown",
   "metadata": {
    "colab_type": "text",
    "editable": true,
    "id": "cfgvdp8cBHmZ",
    "slideshow": {
     "slide_type": ""
    },
    "tags": []
   },
   "source": [
    "- Any valid **CSS color string** can be used to specify a color to Altair\n",
    "    - For example, `'hotpink'` is a CSS color string\n",
    "    - `'#ff69b4'` and `'rgb(255, 105, 180)'` are also CSS color strings that produce the same `'hotpink'` color\n",
    "    - [Here's a tutorial on CSS color strings](https://www.w3schools.com/colors/default.asp)\n",
    "    - [Here's a website that lets you pick a color and get the corresponding CSS color string](https://hashtagcolor.com/)"
   ]
  },
  {
   "cell_type": "markdown",
   "metadata": {
    "colab_type": "text",
    "editable": true,
    "id": "cfgvdp8cBHmZ",
    "slideshow": {
     "slide_type": ""
    },
    "tags": []
   },
   "source": [
    "- By default, legends are placed on the right side of the chart"
   ]
  },
  {
   "cell_type": "markdown",
   "metadata": {
    "colab_type": "text",
    "editable": true,
    "id": "cfgvdp8cBHmZ",
    "slideshow": {
     "slide_type": ""
    },
    "tags": []
   },
   "source": [
    "- We can configure the legend for an encoding channel with the `.legend()` method\n",
    "    - `.legend()` takes the same arguments as `alt.Legend()`\n",
    "    - `alt.Legend()` is an object defining properties of the legend\n",
    "    - [Here's the documentation for `alt.Legend()`](https://altair-viz.github.io/user_guide/generated/core/altair.Legend.html)"
   ]
  },
  {
   "cell_type": "markdown",
   "metadata": {
    "colab_type": "text",
    "editable": true,
    "id": "cfgvdp8cBHmZ",
    "slideshow": {
     "slide_type": ""
    },
    "tags": []
   },
   "source": [
    "- We can change the legend orientation using the `orient=...` keyword argument of `.legend()`:"
   ]
  },
  {
   "cell_type": "code",
   "execution_count": null,
   "metadata": {
    "editable": true,
    "slideshow": {
     "slide_type": ""
    },
    "tags": []
   },
   "outputs": [],
   "source": []
  },
  {
   "cell_type": "markdown",
   "metadata": {
    "colab_type": "text",
    "editable": true,
    "id": "nwoOrGb6BtrF",
    "slideshow": {
     "slide_type": ""
    },
    "tags": []
   },
   "source": [
    "- We can also remove an encoding channel's legend entirely by passing `None` to the `.legend()` method:"
   ]
  },
  {
   "cell_type": "code",
   "execution_count": null,
   "metadata": {
    "editable": true,
    "slideshow": {
     "slide_type": ""
    },
    "tags": []
   },
   "outputs": [],
   "source": []
  },
  {
   "cell_type": "markdown",
   "metadata": {
    "editable": true,
    "slideshow": {
     "slide_type": ""
    },
    "tags": []
   },
   "source": [
    "<hr style=\"border-top: 2px solid gray; margin-top: 1px; margin-bottom: 1px\"></hr>"
   ]
  },
  {
   "cell_type": "markdown",
   "metadata": {
    "colab_type": "text",
    "editable": true,
    "id": "M64uVeFHDIlT",
    "slideshow": {
     "slide_type": ""
    },
    "tags": []
   },
   "source": [
    "## Using built-in color schemes"
   ]
  },
  {
   "cell_type": "markdown",
   "metadata": {
    "colab_type": "text",
    "editable": true,
    "id": "M64uVeFHDIlT",
    "slideshow": {
     "slide_type": ""
    },
    "tags": []
   },
   "source": [
    "- Let's modify our scatter plot to encode `Bacteria` with the `Color` channel, so that we can directly see the effects of neomycin and penicillin on the different bacteria in the dataset:"
   ]
  },
  {
   "cell_type": "code",
   "execution_count": null,
   "metadata": {
    "colab": {
     "base_uri": "https://localhost:8080/",
     "height": 322
    },
    "colab_type": "code",
    "editable": true,
    "id": "di1mU7ynOq0u",
    "outputId": "4d7a1300-79ea-429c-9a6a-4de170eabddf",
    "slideshow": {
     "slide_type": ""
    },
    "tags": []
   },
   "outputs": [],
   "source": [
    "alt.Chart(df).mark_circle().encode(\n",
    "    alt.X('Neomycin:Q')\n",
    "        .sort('descending')\n",
    "        .scale(type='log', domain=[0.001, 1000])\n",
    "        .axis(tickCount=5)\n",
    "        .title('Neomycin MIC (micrograms/ml, reverse log scale)'),\n",
    "    alt.Y('Penicillin:Q')\n",
    "        .sort('descending')\n",
    "        .scale(type='log', domain=[0.001, 1000])\n",
    "        .axis(tickCount=5)\n",
    "        .title('Penicillin MIC (micrograms/ml, reverse log scale)'),\n",
    "    alt.Color('Bacteria:N')\n",
    ")"
   ]
  },
  {
   "cell_type": "markdown",
   "metadata": {
    "colab_type": "text",
    "editable": true,
    "id": "8Z02YhSRa6aw",
    "slideshow": {
     "slide_type": ""
    },
    "tags": []
   },
   "source": [
    "- This is not good... if we look carefully at the color legend, we see that the colors start to repeat!\n",
    "\n",
    "\n",
    "- This is because Altair's default color scheme for nominal data only has 10 colors\n",
    "\n",
    "\n",
    "- We can fix this by explicitly specifying `domain` and `range` values in the `.scale()` method for the `Color` encoding, like we did above\n",
    "\n",
    "\n",
    "- An easier option is to use an alternative **color scheme**"
   ]
  },
  {
   "cell_type": "markdown",
   "metadata": {
    "colab_type": "text",
    "editable": true,
    "id": "8Z02YhSRa6aw",
    "slideshow": {
     "slide_type": ""
    },
    "tags": []
   },
   "source": [
    "- Altair includes a variety of built-in color schemes, derived from Vega\n",
    "    - For a complete list, see the [Vega color scheme documentation](https://vega.github.io/vega/docs/schemes/#reference)"
   ]
  },
  {
   "cell_type": "markdown",
   "metadata": {
    "colab_type": "text",
    "editable": true,
    "id": "8Z02YhSRa6aw",
    "slideshow": {
     "slide_type": ""
    },
    "tags": []
   },
   "source": [
    "- Let's try switching to a built-in 20-color scheme, `tableau20`, and set that using the `scheme=...` keyword argument of `.scale()`"
   ]
  },
  {
   "cell_type": "code",
   "execution_count": null,
   "metadata": {
    "editable": true,
    "slideshow": {
     "slide_type": ""
    },
    "tags": []
   },
   "outputs": [],
   "source": []
  },
  {
   "cell_type": "markdown",
   "metadata": {
    "editable": true,
    "slideshow": {
     "slide_type": ""
    },
    "tags": []
   },
   "source": [
    "<hr style=\"border-top: 2px solid gray; margin-top: 1px; margin-bottom: 1px\"></hr>"
   ]
  },
  {
   "cell_type": "markdown",
   "metadata": {
    "editable": true,
    "slideshow": {
     "slide_type": ""
    },
    "tags": []
   },
   "source": [
    "## Chart-wide properties"
   ]
  },
  {
   "cell_type": "markdown",
   "metadata": {
    "editable": true,
    "slideshow": {
     "slide_type": ""
    },
    "tags": []
   },
   "source": [
    "- There are some chart-wide properties that are good to know about\n",
    "\n",
    "\n",
    "- These are changed with the `.properties()` method of the `Chart` object\n",
    "\n",
    "\n",
    "- We've seen the `width=...` and `height=...` keyword arguments before\n",
    "\n",
    "\n",
    "- We can also set a chart-wide title with the `title=...` keyword argument, which can then be further customized using the `.configure_title()` method of the `Chart` object"
   ]
  },
  {
   "cell_type": "markdown",
   "metadata": {
    "editable": true,
    "slideshow": {
     "slide_type": ""
    },
    "tags": []
   },
   "source": [
    "- Let's put some finishing touches on our scatter plot:\n",
    "    - Set the width and height of the chart to 300 pixels\n",
    "    - Add a title, left-justified, with a slightly bigger font, and slightly higher up than the default placement"
   ]
  },
  {
   "cell_type": "code",
   "execution_count": null,
   "metadata": {
    "editable": true,
    "slideshow": {
     "slide_type": ""
    },
    "tags": []
   },
   "outputs": [],
   "source": []
  },
  {
   "cell_type": "markdown",
   "metadata": {
    "editable": true,
    "slideshow": {
     "slide_type": ""
    },
    "tags": []
   },
   "source": [
    "<hr style=\"border-top: 2px solid gray; margin-top: 1px; margin-bottom: 1px\"></hr>"
   ]
  },
  {
   "cell_type": "markdown",
   "metadata": {
    "editable": true,
    "slideshow": {
     "slide_type": ""
    },
    "tags": []
   },
   "source": [
    "## More on the sort order of an encoding channel"
   ]
  },
  {
   "cell_type": "markdown",
   "metadata": {
    "editable": true,
    "slideshow": {
     "slide_type": ""
    },
    "tags": []
   },
   "source": [
    "- Consider the following bar chart, showing the effects of streptomycin on the different bacteria strains in the dataset:"
   ]
  },
  {
   "cell_type": "code",
   "execution_count": null,
   "metadata": {
    "editable": true,
    "slideshow": {
     "slide_type": ""
    },
    "tags": []
   },
   "outputs": [],
   "source": [
    "alt.Chart(df).mark_bar().encode(\n",
    "    alt.Y('Bacteria:N'),\n",
    "    alt.X('Streptomycin:Q')\n",
    ")"
   ]
  },
  {
   "cell_type": "markdown",
   "metadata": {
    "editable": true,
    "slideshow": {
     "slide_type": ""
    },
    "tags": []
   },
   "source": [
    "- Visually, it would be nice to order the bacteria from most effective at the top (lowest streptomycin MIC) to the least effective at the bottom (highest streptomycin MIC)"
   ]
  },
  {
   "cell_type": "markdown",
   "metadata": {
    "editable": true,
    "slideshow": {
     "slide_type": ""
    },
    "tags": []
   },
   "source": [
    "- We can tell an encoding channel to sort by passing a _dictionary_ to the `.sort()` method with two key-value pairs:\n",
    "    1. `'encoding': ...` specifies the encoding to sort by (use *lowercase* strings to specify the encoding)\n",
    "    2. `'order':...` specifies whether to sort in ascending or descending order"
   ]
  },
  {
   "cell_type": "markdown",
   "metadata": {
    "editable": true,
    "slideshow": {
     "slide_type": ""
    },
    "tags": []
   },
   "source": [
    "- We can sort the `Y` encoding by ascending values of the `X` encoding, like this:"
   ]
  },
  {
   "cell_type": "code",
   "execution_count": null,
   "metadata": {
    "editable": true,
    "slideshow": {
     "slide_type": ""
    },
    "tags": []
   },
   "outputs": [],
   "source": []
  },
  {
   "cell_type": "markdown",
   "metadata": {
    "editable": true,
    "slideshow": {
     "slide_type": ""
    },
    "tags": []
   },
   "source": [
    "- We can also tell an encoding channel to sort by a variable (a __field__, in Altair parlance) by passing a dictionary to the `.sort()` method with two key-value pairs: \n",
    "    1. `'field': ...` specifies the variable to sort by\n",
    "    2. `'order': ...` specifies whether to sort in ascending or descending order"
   ]
  },
  {
   "cell_type": "markdown",
   "metadata": {
    "editable": true,
    "slideshow": {
     "slide_type": ""
    },
    "tags": []
   },
   "source": [
    "- So, we can also sort the `Y` encoding based on descending values of `Streptomycin`, like this:"
   ]
  },
  {
   "cell_type": "code",
   "execution_count": null,
   "metadata": {
    "editable": true,
    "slideshow": {
     "slide_type": ""
    },
    "tags": []
   },
   "outputs": [],
   "source": []
  },
  {
   "cell_type": "markdown",
   "metadata": {
    "editable": true,
    "slideshow": {
     "slide_type": ""
    },
    "tags": []
   },
   "source": [
    "<hr style=\"border-top: 2px solid gray; margin-top: 1px; margin-bottom: 1px\"></hr>"
   ]
  },
  {
   "cell_type": "markdown",
   "metadata": {
    "editable": true,
    "slideshow": {
     "slide_type": ""
    },
    "tags": []
   },
   "source": [
    "## Problems"
   ]
  },
  {
   "cell_type": "markdown",
   "metadata": {
    "editable": true,
    "slideshow": {
     "slide_type": ""
    },
    "tags": []
   },
   "source": [
    "### Problem 1"
   ]
  },
  {
   "cell_type": "markdown",
   "metadata": {
    "editable": true,
    "slideshow": {
     "slide_type": ""
    },
    "tags": []
   },
   "source": [
    "The file `data/gapminder.csv` contains the Gapminder data we used in Lessons 2 and 3.\n",
    "\n",
    "In Problem 1 of Lesson 3, you were asked to create a scatter plot of life expectancy vs. population in the year 2000. Recreate that scatter plot, first using a filter transform to only include data from the year 2000. Then, use the techniques in this lesson to:\n",
    "\n",
    "- Change the scale of the horizontal axis so that the points are easier to discern.\n",
    "- Provide descriptive titles for the axes and legend.\n",
    "- Put the legend at the bottom of the chart. *Hint.* Look at the documentation for `alt.Legend()` to see what values are valid for the `orient=...` keyword argument."
   ]
  },
  {
   "cell_type": "code",
   "execution_count": null,
   "metadata": {
    "editable": true,
    "slideshow": {
     "slide_type": ""
    },
    "tags": []
   },
   "outputs": [],
   "source": []
  },
  {
   "cell_type": "markdown",
   "metadata": {
    "editable": true,
    "slideshow": {
     "slide_type": ""
    },
    "tags": []
   },
   "source": [
    "### Problem 2"
   ]
  },
  {
   "cell_type": "markdown",
   "metadata": {
    "editable": true,
    "slideshow": {
     "slide_type": ""
    },
    "tags": []
   },
   "source": [
    "Modify the scatter plot you created in Problem 1 so that the different regions are differentiated by color instead of shape. Use the following colors:\n",
    "\n",
    "| Region                     | CSS color string |\n",
    "| :-                         | :-               |\n",
    "| Americas                   | `#7fc97f`        |\n",
    "| East Asia & Pacific        | `#beaed4`        |\n",
    "| Europe & Central Asia      | `#fdc086`        |\n",
    "| Middle East & North Africa | `#ffff99`        |\n",
    "| South Asia                 | `#386cb0`        |\n",
    "| Sub-Saharan Africa         | `#f0027f`        |\n",
    "\n",
    "*FYI.* This color scheme is generated by [this website](https://colorbrewer2.org/). Poke around and play with different color schemes!"
   ]
  },
  {
   "cell_type": "code",
   "execution_count": null,
   "metadata": {
    "editable": true,
    "slideshow": {
     "slide_type": ""
    },
    "tags": []
   },
   "outputs": [],
   "source": []
  },
  {
   "cell_type": "markdown",
   "metadata": {
    "editable": true,
    "slideshow": {
     "slide_type": ""
    },
    "tags": []
   },
   "source": [
    "### Problem 3"
   ]
  },
  {
   "cell_type": "markdown",
   "metadata": {
    "editable": true,
    "slideshow": {
     "slide_type": ""
    },
    "tags": []
   },
   "source": [
    "The file `data/movies.csv` in this folder contains the movies dataset we used in Lesson 5.\n",
    "\n",
    "In Lesson 5, we created a bar chart showing the top 20 directors by total worldwide gross revenues, with the bar lengths corresponding to these revenue values. Recreate that bar chart. Use the techniques in this lesson to:\n",
    "\n",
    "- Sort the directors by total worldwide gross revenues in descending order.\n",
    "- Provide descriptive titles for the axes.\n",
    "- Provide a descriptive title for the chart overall."
   ]
  },
  {
   "cell_type": "code",
   "execution_count": null,
   "metadata": {
    "editable": true,
    "slideshow": {
     "slide_type": ""
    },
    "tags": []
   },
   "outputs": [],
   "source": []
  },
  {
   "cell_type": "markdown",
   "metadata": {
    "editable": true,
    "slideshow": {
     "slide_type": ""
    },
    "tags": []
   },
   "source": [
    "### Problem 4"
   ]
  },
  {
   "cell_type": "markdown",
   "metadata": {
    "editable": true,
    "slideshow": {
     "slide_type": ""
    },
    "tags": []
   },
   "source": [
    "Look at the Vega color scheme documentation linked above. Note that the categorical color schemes are more appropriate for nominal data types, while the sequential single-hue, sequential multi-hue, diverging, and cyclical color schemes are more appropriate for ordinal data types.\n",
    "\n",
    "Take the scatter plot of `Neomycin` vs `Penicillin` we created in this lesson (code copied-and-pasted below) and play around with the different color schemes. Try `Bacteria` as both a nominal and ordinal data type."
   ]
  },
  {
   "cell_type": "code",
   "execution_count": null,
   "metadata": {
    "editable": true,
    "slideshow": {
     "slide_type": ""
    },
    "tags": []
   },
   "outputs": [],
   "source": [
    "# Play around with this code!\n",
    "alt.Chart(df).mark_circle().encode(\n",
    "    alt.X('Neomycin:Q')\n",
    "        .sort('descending')\n",
    "        .scale(type='log', domain=[0.001, 1000])\n",
    "        .axis(tickCount=5)\n",
    "        .title('Neomycin MIC (micrograms/ml, reverse log scale)'),\n",
    "    alt.Y('Penicillin:Q')\n",
    "        .sort('descending')\n",
    "        .scale(type='log', domain=[0.001, 1000])\n",
    "        .axis(tickCount=5)\n",
    "        .title('Penicillin MIC (micrograms/ml, reverse log scale)'),\n",
    "    alt.Color('Bacteria:N').scale(scheme='tableau20')\n",
    ").properties(\n",
    "    width=300,\n",
    "    height=300,\n",
    "    title='MIC values of penicillin and neomycin'\n",
    ").configure_title(\n",
    "    fontSize=16,\n",
    "    anchor='start',\n",
    "    dy=-10\n",
    ")"
   ]
  },
  {
   "cell_type": "markdown",
   "metadata": {
    "editable": true,
    "slideshow": {
     "slide_type": ""
    },
    "tags": []
   },
   "source": [
    "### Problem 5"
   ]
  },
  {
   "cell_type": "markdown",
   "metadata": {
    "editable": true,
    "slideshow": {
     "slide_type": ""
    },
    "tags": []
   },
   "source": [
    "Let's go back to the movies dataset. In Problem 4 of Lesson 4, you were asked to create a heatmap that shows the relationship between the running times of the IMDB ratings of the movies in the dataset. Recreate this heatmap. Use the techniques in this lesson to:\n",
    "\n",
    "- Provide descriptive titles for the axes and legend.\n",
    "- Use an alternative built-in color scheme. Take a look at the Vega color scheme documentation linked above, and try a few out. Which type of color scheme seems most appropriate: sequential single-hue, sequential multi-hue, diverging, or cyclical? "
   ]
  },
  {
   "cell_type": "code",
   "execution_count": null,
   "metadata": {
    "editable": true,
    "slideshow": {
     "slide_type": ""
    },
    "tags": []
   },
   "outputs": [],
   "source": []
  },
  {
   "cell_type": "markdown",
   "metadata": {
    "editable": true,
    "slideshow": {
     "slide_type": ""
    },
    "tags": []
   },
   "source": [
    "<hr style=\"border-top: 2px solid gray; margin-top: 1px; margin-bottom: 1px\"></hr>"
   ]
  },
  {
   "cell_type": "markdown",
   "metadata": {
    "editable": true,
    "slideshow": {
     "slide_type": ""
    },
    "tags": []
   },
   "source": [
    "## Notes and sources"
   ]
  },
  {
   "cell_type": "markdown",
   "metadata": {
    "editable": true,
    "slideshow": {
     "slide_type": ""
    },
    "tags": []
   },
   "source": [
    "- These lesson notes are based on the [Visualization Curriculum](https://uwdata.github.io/visualization-curriculum/) by the University of Washington\n",
    "\n",
    "\n",
    "- [Customizing Visualizations](https://altair-viz.github.io/user_guide/customization.html) from the Altair documentation"
   ]
  }
 ],
 "metadata": {
  "kernelspec": {
   "display_name": "Python 3 (ipykernel)",
   "language": "python",
   "name": "python3"
  },
  "language_info": {
   "codemirror_mode": {
    "name": "ipython",
    "version": 3
   },
   "file_extension": ".py",
   "mimetype": "text/x-python",
   "name": "python",
   "nbconvert_exporter": "python",
   "pygments_lexer": "ipython3",
   "version": "3.11.6"
  }
 },
 "nbformat": 4,
 "nbformat_minor": 4
}
